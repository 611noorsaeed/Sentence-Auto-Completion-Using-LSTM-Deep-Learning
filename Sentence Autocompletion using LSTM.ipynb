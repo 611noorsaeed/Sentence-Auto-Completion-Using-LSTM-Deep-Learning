{
 "cells": [
  {
   "cell_type": "markdown",
   "metadata": {},
   "source": [
    "# LSTM Implementation"
   ]
  },
  {
   "cell_type": "markdown",
   "metadata": {},
   "source": [
    "# **Text Preprocessing**"
   ]
  },
  {
   "cell_type": "code",
   "execution_count": 3,
   "metadata": {},
   "outputs": [
    {
     "name": "stdout",
     "output_type": "stream",
     "text": [
      "WARNING:tensorflow:From C:\\Users\\naimat\\anaconda3\\lib\\site-packages\\keras\\src\\losses.py:2976: The name tf.losses.sparse_softmax_cross_entropy is deprecated. Please use tf.compat.v1.losses.sparse_softmax_cross_entropy instead.\n",
      "\n"
     ]
    }
   ],
   "source": [
    "import os\n",
    "import pandas as pd\n",
    "import numpy as np\n",
    "import tensorflow as tf\n",
    "from tensorflow.keras.preprocessing.sequence import pad_sequences\n",
    "from tensorflow.keras.layers import Embedding, LSTM, Dense, Bidirectional\n",
    "from tensorflow.keras.preprocessing.text import Tokenizer\n",
    "from tensorflow.keras.models import Sequential\n",
    "from tensorflow.keras.optimizers import Adam\n",
    "import nltk\n",
    "import re"
   ]
  },
  {
   "cell_type": "code",
   "execution_count": 7,
   "metadata": {},
   "outputs": [],
   "source": [
    "# Specify the filename\n",
    "input_file = 'holmes.txt'\n",
    "\n",
    "# Read the contents of the file\n",
    "with open(input_file, 'r', encoding='utf-8') as infile:\n",
    "    data = infile.read()"
   ]
  },
  {
   "cell_type": "code",
   "execution_count": 8,
   "metadata": {},
   "outputs": [
    {
     "data": {
      "text/plain": [
       "\"*Project Gutenberg's Etext of Tom Swift And His Submarine Boat*\\n\\n#4 in the Victor Appleton's Tom Swi\""
      ]
     },
     "execution_count": 8,
     "metadata": {},
     "output_type": "execute_result"
    }
   ],
   "source": [
    "data[:100] # view first few characters"
   ]
  },
  {
   "cell_type": "code",
   "execution_count": 9,
   "metadata": {},
   "outputs": [],
   "source": [
    "# Limit data to 500000 characters\n",
    "data = data[:500000]"
   ]
  },
  {
   "cell_type": "markdown",
   "metadata": {},
   "source": [
    "# Clean Text"
   ]
  },
  {
   "cell_type": "code",
   "execution_count": 25,
   "metadata": {},
   "outputs": [],
   "source": [
    "# Function to remove emojis and special characters from text\n",
    "def remove_emojis_and_special_characters(text):\n",
    "    # Remove emojis\n",
    "    emoji_pattern = re.compile(\"[\"\n",
    "                               u\"\\U0001F600-\\U0001F64F\"  # emoticons\n",
    "                               u\"\\U0001F300-\\U0001F5FF\"  # symbols & pictographs\n",
    "                               u\"\\U0001F680-\\U0001F6FF\"  # transport & map symbols\n",
    "                               u\"\\U0001F700-\\U0001F77F\"  # alchemical symbols\n",
    "                               u\"\\U0001F780-\\U0001F7FF\"  # Geometric Shapes Extended\n",
    "                               u\"\\U0001F800-\\U0001F8FF\"  # Supplemental Arrows-C\n",
    "                               u\"\\U0001F900-\\U0001F9FF\"  # Supplemental Symbols and Pictographs\n",
    "                               u\"\\U0001FA00-\\U0001FA6F\"  # Chess Symbols\n",
    "                               u\"\\U0001FA70-\\U0001FAFF\"  # Symbols and Pictographs Extended-A\n",
    "                               u\"\\U00002702-\\U000027B0\"  # Dingbats\n",
    "                               u\"\\U000024C2-\\U0001F251\" \n",
    "                               \"]+\", flags=re.UNICODE)\n",
    "    \n",
    "    # Remove special characters\n",
    "    text = re.sub(r'[^a-zA-Z0-9\\s]', '', text)\n",
    "    \n",
    "    # Remove extra spaces\n",
    "    text = re.sub(' +', ' ', text)\n",
    "    \n",
    "    return text"
   ]
  },
  {
   "cell_type": "code",
   "execution_count": 26,
   "metadata": {},
   "outputs": [],
   "source": [
    "# Preprocessing pipeline\n",
    "def preprocess_pipeline(data) -> 'list':\n",
    "    # Split by newline character\n",
    "    sentences = data.split('\\n')\n",
    "    for i in range(len(sentences)):\n",
    "        sentences[i] = remove_emojis_and_special_characters(sentences[i])\n",
    "    # Remove leading and trailing spaces\n",
    "    sentences = [s.strip() for s in sentences]\n",
    "    # Drop empty sentences\n",
    "    sentences = [s for s in sentences if len(s) > 0]\n",
    "    # Tokenization\n",
    "    tokenized = []\n",
    "    for sentence in sentences:\n",
    "        # Convert to lowercase\n",
    "        sentence = sentence.lower()\n",
    "        tokenized.append(sentence)\n",
    "    return tokenized\n",
    "\n",
    "# Tokenize sentences\n",
    "tokenized_sentences = preprocess_pipeline(data)"
   ]
  },
  {
   "cell_type": "code",
   "execution_count": 50,
   "metadata": {},
   "outputs": [],
   "source": [
    "\"\"\"\n",
    "What is an OOV Token?\n",
    "An out-of-vocabulary (OOV) token is a special token used in natural language processing (NLP) tasks to represent words that\n",
    "are not present in the vocabulary of the model or tokenizer. When a word that is not in the vocabulary is encountered during\n",
    "tokenization or text processing, it is replaced with the OOV token.\n",
    "\n",
    "Why Use an OOV Token?\n",
    "Using an OOV token helps handle unseen or unknown words during the training or inference phase of an NLP model. \n",
    "Instead of encountering errors or issues when encountering unknown words, the model can gracefully handle them by\n",
    "representing them with the OOV token. This is particularly useful when working with real-world data where the vocabulary\n",
    "of the model may not cover all possible words.\n",
    "\"\"\"\n",
    "# Tokenize words\n",
    "tokenizer = Tokenizer(oov_token='<oov>')\n",
    "tokenizer.fit_on_texts(tokenized_sentences)\n",
    "total_words = len(tokenizer.word_index) + 1\n",
    "# tokenizer.word_counts\n",
    "# tokenizer.word_index\n",
    "\"\"\"\n",
    "n_gram example:\n",
    "[3, 15, 8, 7, 20, 12, 6]\n",
    "\n",
    "For the above sentece sentence, the code would generate the following n-gram sequences:\n",
    "\n",
    "[3, 15]\n",
    "[3, 15, 8]\n",
    "[3, 15, 8, 7]\n",
    "[3, 15, 8, 7, 20]\n",
    "[3, 15, 8, 7, 20, 12]\n",
    "[3, 15, 8, 7, 20, 12, 6]\n",
    "\"\"\"\n",
    "\n",
    "# Generate input sequences\n",
    "input_sequences = []\n",
    "for line in tokenized_sentences:\n",
    "    token_list = tokenizer.texts_to_sequences([line])[0]\n",
    "    for i in range(1, len(token_list)):\n",
    "        n_gram_sequence = token_list[:i + 1]\n",
    "        input_sequences.append(n_gram_sequence)\n",
    "\n",
    "# Pad sequences\n",
    "max_sequence_len = max([len(x) for x in input_sequences])\n",
    "input_sequences = np.array(pad_sequences(input_sequences, maxlen=max_sequence_len, padding='pre'))"
   ]
  },
  {
   "cell_type": "code",
   "execution_count": 51,
   "metadata": {},
   "outputs": [],
   "source": [
    "# Creates labels with input sequences\n",
    "X,labels = input_sequences[:,:-1],input_sequences[:,-1]\n",
    "ys = tf.keras.utils.to_categorical(labels, num_classes=total_words)"
   ]
  },
  {
   "cell_type": "code",
   "execution_count": 52,
   "metadata": {
    "execution": {
     "iopub.execute_input": "2024-04-11T05:32:13.168190Z",
     "iopub.status.busy": "2024-04-11T05:32:13.167751Z",
     "iopub.status.idle": "2024-04-11T05:32:20.041506Z",
     "shell.execute_reply": "2024-04-11T05:32:20.040383Z",
     "shell.execute_reply.started": "2024-04-11T05:32:13.168137Z"
    }
   },
   "outputs": [],
   "source": [
    "# Split data into training, validation, and test sets\n",
    "from sklearn.model_selection import train_test_split\n",
    "X_train_temp, X_val_test, y_train_temp, y_val_test = train_test_split(X, ys, test_size=0.2, random_state=42)\n",
    "X_val, X_test, y_val, y_test = train_test_split(X_val_test, y_val_test, test_size=0.5, random_state=42)"
   ]
  },
  {
   "cell_type": "markdown",
   "metadata": {},
   "source": [
    "# Train LSTM Model"
   ]
  },
  {
   "cell_type": "code",
   "execution_count": 63,
   "metadata": {
    "execution": {
     "iopub.execute_input": "2024-04-11T06:50:19.346868Z",
     "iopub.status.busy": "2024-04-11T06:50:19.345839Z",
     "iopub.status.idle": "2024-04-11T07:17:23.071736Z",
     "shell.execute_reply": "2024-04-11T07:17:23.070573Z",
     "shell.execute_reply.started": "2024-04-11T06:50:19.346830Z"
    }
   },
   "outputs": [
    {
     "name": "stdout",
     "output_type": "stream",
     "text": [
      "Epoch 1/50\n",
      "\u001b[1m2019/2019\u001b[0m \u001b[32m━━━━━━━━━━━━━━━━━━━━\u001b[0m\u001b[37m\u001b[0m \u001b[1m36s\u001b[0m 17ms/step - accuracy: 0.0740 - loss: 6.6376 - val_accuracy: 0.1045 - val_loss: 6.1685\n",
      "Epoch 2/50\n",
      "\u001b[1m2019/2019\u001b[0m \u001b[32m━━━━━━━━━━━━━━━━━━━━\u001b[0m\u001b[37m\u001b[0m \u001b[1m32s\u001b[0m 16ms/step - accuracy: 0.1195 - loss: 5.6113 - val_accuracy: 0.1190 - val_loss: 6.2526\n",
      "Epoch 3/50\n",
      "\u001b[1m2019/2019\u001b[0m \u001b[32m━━━━━━━━━━━━━━━━━━━━\u001b[0m\u001b[37m\u001b[0m \u001b[1m32s\u001b[0m 16ms/step - accuracy: 0.1415 - loss: 5.0277 - val_accuracy: 0.1121 - val_loss: 6.4698\n",
      "Epoch 4/50\n",
      "\u001b[1m2019/2019\u001b[0m \u001b[32m━━━━━━━━━━━━━━━━━━━━\u001b[0m\u001b[37m\u001b[0m \u001b[1m32s\u001b[0m 16ms/step - accuracy: 0.1687 - loss: 4.5206 - val_accuracy: 0.1167 - val_loss: 6.8007\n",
      "Epoch 5/50\n",
      "\u001b[1m2019/2019\u001b[0m \u001b[32m━━━━━━━━━━━━━━━━━━━━\u001b[0m\u001b[37m\u001b[0m \u001b[1m32s\u001b[0m 16ms/step - accuracy: 0.2009 - loss: 4.1267 - val_accuracy: 0.1157 - val_loss: 7.1744\n",
      "Epoch 6/50\n",
      "\u001b[1m2019/2019\u001b[0m \u001b[32m━━━━━━━━━━━━━━━━━━━━\u001b[0m\u001b[37m\u001b[0m \u001b[1m32s\u001b[0m 16ms/step - accuracy: 0.2167 - loss: 4.0240 - val_accuracy: 0.1053 - val_loss: 7.5095\n",
      "Epoch 7/50\n",
      "\u001b[1m2019/2019\u001b[0m \u001b[32m━━━━━━━━━━━━━━━━━━━━\u001b[0m\u001b[37m\u001b[0m \u001b[1m32s\u001b[0m 16ms/step - accuracy: 0.2338 - loss: 3.7859 - val_accuracy: 0.1054 - val_loss: 7.8422\n",
      "Epoch 8/50\n",
      "\u001b[1m2019/2019\u001b[0m \u001b[32m━━━━━━━━━━━━━━━━━━━━\u001b[0m\u001b[37m\u001b[0m \u001b[1m32s\u001b[0m 16ms/step - accuracy: 0.2510 - loss: 3.6181 - val_accuracy: 0.1066 - val_loss: 8.1853\n",
      "Epoch 9/50\n",
      "\u001b[1m2019/2019\u001b[0m \u001b[32m━━━━━━━━━━━━━━━━━━━━\u001b[0m\u001b[37m\u001b[0m \u001b[1m32s\u001b[0m 16ms/step - accuracy: 0.2565 - loss: 3.5491 - val_accuracy: 0.1071 - val_loss: 8.4493\n",
      "Epoch 10/50\n",
      "\u001b[1m2019/2019\u001b[0m \u001b[32m━━━━━━━━━━━━━━━━━━━━\u001b[0m\u001b[37m\u001b[0m \u001b[1m32s\u001b[0m 16ms/step - accuracy: 0.2684 - loss: 3.4560 - val_accuracy: 0.1068 - val_loss: 8.7272\n",
      "Epoch 11/50\n",
      "\u001b[1m2019/2019\u001b[0m \u001b[32m━━━━━━━━━━━━━━━━━━━━\u001b[0m\u001b[37m\u001b[0m \u001b[1m32s\u001b[0m 16ms/step - accuracy: 0.2752 - loss: 3.3936 - val_accuracy: 0.1029 - val_loss: 8.9280\n",
      "Epoch 12/50\n",
      "\u001b[1m2019/2019\u001b[0m \u001b[32m━━━━━━━━━━━━━━━━━━━━\u001b[0m\u001b[37m\u001b[0m \u001b[1m32s\u001b[0m 16ms/step - accuracy: 0.2777 - loss: 3.3700 - val_accuracy: 0.1058 - val_loss: 9.1781\n",
      "Epoch 13/50\n",
      "\u001b[1m2019/2019\u001b[0m \u001b[32m━━━━━━━━━━━━━━━━━━━━\u001b[0m\u001b[37m\u001b[0m \u001b[1m32s\u001b[0m 16ms/step - accuracy: 0.2842 - loss: 3.3384 - val_accuracy: 0.1011 - val_loss: 9.4172\n",
      "Epoch 14/50\n",
      "\u001b[1m2019/2019\u001b[0m \u001b[32m━━━━━━━━━━━━━━━━━━━━\u001b[0m\u001b[37m\u001b[0m \u001b[1m32s\u001b[0m 16ms/step - accuracy: 0.2889 - loss: 3.2756 - val_accuracy: 0.1053 - val_loss: 9.6058\n",
      "Epoch 15/50\n",
      "\u001b[1m2019/2019\u001b[0m \u001b[32m━━━━━━━━━━━━━━━━━━━━\u001b[0m\u001b[37m\u001b[0m \u001b[1m32s\u001b[0m 16ms/step - accuracy: 0.2910 - loss: 3.2660 - val_accuracy: 0.1027 - val_loss: 9.7615\n",
      "Epoch 16/50\n",
      "\u001b[1m2019/2019\u001b[0m \u001b[32m━━━━━━━━━━━━━━━━━━━━\u001b[0m\u001b[37m\u001b[0m \u001b[1m32s\u001b[0m 16ms/step - accuracy: 0.2915 - loss: 3.2691 - val_accuracy: 0.1033 - val_loss: 9.9533\n",
      "Epoch 17/50\n",
      "\u001b[1m2019/2019\u001b[0m \u001b[32m━━━━━━━━━━━━━━━━━━━━\u001b[0m\u001b[37m\u001b[0m \u001b[1m32s\u001b[0m 16ms/step - accuracy: 0.2905 - loss: 3.2607 - val_accuracy: 0.0980 - val_loss: 10.1505\n",
      "Epoch 18/50\n",
      "\u001b[1m2019/2019\u001b[0m \u001b[32m━━━━━━━━━━━━━━━━━━━━\u001b[0m\u001b[37m\u001b[0m \u001b[1m32s\u001b[0m 16ms/step - accuracy: 0.2927 - loss: 3.2535 - val_accuracy: 0.0992 - val_loss: 10.2983\n",
      "Epoch 19/50\n",
      "\u001b[1m2019/2019\u001b[0m \u001b[32m━━━━━━━━━━━━━━━━━━━━\u001b[0m\u001b[37m\u001b[0m \u001b[1m32s\u001b[0m 16ms/step - accuracy: 0.2940 - loss: 3.2574 - val_accuracy: 0.1030 - val_loss: 10.4274\n",
      "Epoch 20/50\n",
      "\u001b[1m2019/2019\u001b[0m \u001b[32m━━━━━━━━━━━━━━━━━━━━\u001b[0m\u001b[37m\u001b[0m \u001b[1m32s\u001b[0m 16ms/step - accuracy: 0.2991 - loss: 3.2167 - val_accuracy: 0.1002 - val_loss: 10.5672\n",
      "Epoch 21/50\n",
      "\u001b[1m2019/2019\u001b[0m \u001b[32m━━━━━━━━━━━━━━━━━━━━\u001b[0m\u001b[37m\u001b[0m \u001b[1m32s\u001b[0m 16ms/step - accuracy: 0.2978 - loss: 3.2316 - val_accuracy: 0.1000 - val_loss: 10.7582\n",
      "Epoch 22/50\n",
      "\u001b[1m2019/2019\u001b[0m \u001b[32m━━━━━━━━━━━━━━━━━━━━\u001b[0m\u001b[37m\u001b[0m \u001b[1m32s\u001b[0m 16ms/step - accuracy: 0.2975 - loss: 3.2511 - val_accuracy: 0.0991 - val_loss: 10.9165\n",
      "Epoch 23/50\n",
      "\u001b[1m2019/2019\u001b[0m \u001b[32m━━━━━━━━━━━━━━━━━━━━\u001b[0m\u001b[37m\u001b[0m \u001b[1m32s\u001b[0m 16ms/step - accuracy: 0.3013 - loss: 3.2350 - val_accuracy: 0.1035 - val_loss: 11.0819\n",
      "Epoch 24/50\n",
      "\u001b[1m2019/2019\u001b[0m \u001b[32m━━━━━━━━━━━━━━━━━━━━\u001b[0m\u001b[37m\u001b[0m \u001b[1m32s\u001b[0m 16ms/step - accuracy: 0.2974 - loss: 3.2422 - val_accuracy: 0.0988 - val_loss: 11.2693\n",
      "Epoch 25/50\n",
      "\u001b[1m2019/2019\u001b[0m \u001b[32m━━━━━━━━━━━━━━━━━━━━\u001b[0m\u001b[37m\u001b[0m \u001b[1m32s\u001b[0m 16ms/step - accuracy: 0.3063 - loss: 3.1917 - val_accuracy: 0.0988 - val_loss: 11.3572\n",
      "Epoch 26/50\n",
      "\u001b[1m2019/2019\u001b[0m \u001b[32m━━━━━━━━━━━━━━━━━━━━\u001b[0m\u001b[37m\u001b[0m \u001b[1m32s\u001b[0m 16ms/step - accuracy: 0.3034 - loss: 3.1966 - val_accuracy: 0.1040 - val_loss: 11.4403\n",
      "Epoch 27/50\n",
      "\u001b[1m2019/2019\u001b[0m \u001b[32m━━━━━━━━━━━━━━━━━━━━\u001b[0m\u001b[37m\u001b[0m \u001b[1m32s\u001b[0m 16ms/step - accuracy: 0.3008 - loss: 3.2408 - val_accuracy: 0.0990 - val_loss: 11.5304\n",
      "Epoch 28/50\n",
      "\u001b[1m2019/2019\u001b[0m \u001b[32m━━━━━━━━━━━━━━━━━━━━\u001b[0m\u001b[37m\u001b[0m \u001b[1m32s\u001b[0m 16ms/step - accuracy: 0.2980 - loss: 3.3097 - val_accuracy: 0.1030 - val_loss: 11.6778\n",
      "Epoch 29/50\n",
      "\u001b[1m2019/2019\u001b[0m \u001b[32m━━━━━━━━━━━━━━━━━━━━\u001b[0m\u001b[37m\u001b[0m \u001b[1m32s\u001b[0m 16ms/step - accuracy: 0.3028 - loss: 3.2449 - val_accuracy: 0.0990 - val_loss: 11.8247\n",
      "Epoch 30/50\n",
      "\u001b[1m2019/2019\u001b[0m \u001b[32m━━━━━━━━━━━━━━━━━━━━\u001b[0m\u001b[37m\u001b[0m \u001b[1m32s\u001b[0m 16ms/step - accuracy: 0.3041 - loss: 3.2505 - val_accuracy: 0.0973 - val_loss: 11.9230\n",
      "Epoch 31/50\n",
      "\u001b[1m2019/2019\u001b[0m \u001b[32m━━━━━━━━━━━━━━━━━━━━\u001b[0m\u001b[37m\u001b[0m \u001b[1m32s\u001b[0m 16ms/step - accuracy: 0.3042 - loss: 3.2406 - val_accuracy: 0.0982 - val_loss: 12.0616\n",
      "Epoch 32/50\n",
      "\u001b[1m2019/2019\u001b[0m \u001b[32m━━━━━━━━━━━━━━━━━━━━\u001b[0m\u001b[37m\u001b[0m \u001b[1m32s\u001b[0m 16ms/step - accuracy: 0.3069 - loss: 3.2125 - val_accuracy: 0.1019 - val_loss: 12.1948\n",
      "Epoch 33/50\n",
      "\u001b[1m2019/2019\u001b[0m \u001b[32m━━━━━━━━━━━━━━━━━━━━\u001b[0m\u001b[37m\u001b[0m \u001b[1m32s\u001b[0m 16ms/step - accuracy: 0.3078 - loss: 3.2212 - val_accuracy: 0.1007 - val_loss: 12.1885\n",
      "Epoch 34/50\n",
      "\u001b[1m2019/2019\u001b[0m \u001b[32m━━━━━━━━━━━━━━━━━━━━\u001b[0m\u001b[37m\u001b[0m \u001b[1m32s\u001b[0m 16ms/step - accuracy: 0.3041 - loss: 3.2331 - val_accuracy: 0.1027 - val_loss: 12.2329\n",
      "Epoch 35/50\n",
      "\u001b[1m2019/2019\u001b[0m \u001b[32m━━━━━━━━━━━━━━━━━━━━\u001b[0m\u001b[37m\u001b[0m \u001b[1m32s\u001b[0m 16ms/step - accuracy: 0.3065 - loss: 3.2092 - val_accuracy: 0.0993 - val_loss: 12.3775\n",
      "Epoch 36/50\n",
      "\u001b[1m2019/2019\u001b[0m \u001b[32m━━━━━━━━━━━━━━━━━━━━\u001b[0m\u001b[37m\u001b[0m \u001b[1m32s\u001b[0m 16ms/step - accuracy: 0.3086 - loss: 3.2162 - val_accuracy: 0.1043 - val_loss: 12.5220\n",
      "Epoch 37/50\n",
      "\u001b[1m2019/2019\u001b[0m \u001b[32m━━━━━━━━━━━━━━━━━━━━\u001b[0m\u001b[37m\u001b[0m \u001b[1m32s\u001b[0m 16ms/step - accuracy: 0.3071 - loss: 3.2364 - val_accuracy: 0.1016 - val_loss: 12.5817\n",
      "Epoch 38/50\n",
      "\u001b[1m2019/2019\u001b[0m \u001b[32m━━━━━━━━━━━━━━━━━━━━\u001b[0m\u001b[37m\u001b[0m \u001b[1m32s\u001b[0m 16ms/step - accuracy: 0.3083 - loss: 3.2245 - val_accuracy: 0.1030 - val_loss: 12.7685\n",
      "Epoch 39/50\n",
      "\u001b[1m2019/2019\u001b[0m \u001b[32m━━━━━━━━━━━━━━━━━━━━\u001b[0m\u001b[37m\u001b[0m \u001b[1m33s\u001b[0m 16ms/step - accuracy: 0.3102 - loss: 3.2196 - val_accuracy: 0.1011 - val_loss: 12.8408\n",
      "Epoch 40/50\n",
      "\u001b[1m2019/2019\u001b[0m \u001b[32m━━━━━━━━━━━━━━━━━━━━\u001b[0m\u001b[37m\u001b[0m \u001b[1m32s\u001b[0m 16ms/step - accuracy: 0.3063 - loss: 3.2373 - val_accuracy: 0.1024 - val_loss: 12.8162\n",
      "Epoch 41/50\n",
      "\u001b[1m2019/2019\u001b[0m \u001b[32m━━━━━━━━━━━━━━━━━━━━\u001b[0m\u001b[37m\u001b[0m \u001b[1m32s\u001b[0m 16ms/step - accuracy: 0.3099 - loss: 3.2307 - val_accuracy: 0.0993 - val_loss: 12.9878\n",
      "Epoch 42/50\n",
      "\u001b[1m2019/2019\u001b[0m \u001b[32m━━━━━━━━━━━━━━━━━━━━\u001b[0m\u001b[37m\u001b[0m \u001b[1m32s\u001b[0m 16ms/step - accuracy: 0.3113 - loss: 3.2323 - val_accuracy: 0.0981 - val_loss: 13.0761\n",
      "Epoch 43/50\n",
      "\u001b[1m2019/2019\u001b[0m \u001b[32m━━━━━━━━━━━━━━━━━━━━\u001b[0m\u001b[37m\u001b[0m \u001b[1m32s\u001b[0m 16ms/step - accuracy: 0.3060 - loss: 3.2296 - val_accuracy: 0.1007 - val_loss: 13.1570\n",
      "Epoch 44/50\n",
      "\u001b[1m2019/2019\u001b[0m \u001b[32m━━━━━━━━━━━━━━━━━━━━\u001b[0m\u001b[37m\u001b[0m \u001b[1m32s\u001b[0m 16ms/step - accuracy: 0.3155 - loss: 3.1850 - val_accuracy: 0.1003 - val_loss: 13.3580\n",
      "Epoch 45/50\n",
      "\u001b[1m2019/2019\u001b[0m \u001b[32m━━━━━━━━━━━━━━━━━━━━\u001b[0m\u001b[37m\u001b[0m \u001b[1m32s\u001b[0m 16ms/step - accuracy: 0.3074 - loss: 3.2374 - val_accuracy: 0.0956 - val_loss: 13.2644\n",
      "Epoch 46/50\n",
      "\u001b[1m2019/2019\u001b[0m \u001b[32m━━━━━━━━━━━━━━━━━━━━\u001b[0m\u001b[37m\u001b[0m \u001b[1m32s\u001b[0m 16ms/step - accuracy: 0.3046 - loss: 3.2607 - val_accuracy: 0.0976 - val_loss: 13.5457\n",
      "Epoch 47/50\n",
      "\u001b[1m2019/2019\u001b[0m \u001b[32m━━━━━━━━━━━━━━━━━━━━\u001b[0m\u001b[37m\u001b[0m \u001b[1m32s\u001b[0m 16ms/step - accuracy: 0.3134 - loss: 3.2119 - val_accuracy: 0.1033 - val_loss: 13.4333\n",
      "Epoch 48/50\n",
      "\u001b[1m2019/2019\u001b[0m \u001b[32m━━━━━━━━━━━━━━━━━━━━\u001b[0m\u001b[37m\u001b[0m \u001b[1m32s\u001b[0m 16ms/step - accuracy: 0.3050 - loss: 3.2866 - val_accuracy: 0.0998 - val_loss: 13.5238\n",
      "Epoch 49/50\n",
      "\u001b[1m2019/2019\u001b[0m \u001b[32m━━━━━━━━━━━━━━━━━━━━\u001b[0m\u001b[37m\u001b[0m \u001b[1m32s\u001b[0m 16ms/step - accuracy: 0.3082 - loss: 3.2549 - val_accuracy: 0.0971 - val_loss: 13.6948\n",
      "Epoch 50/50\n",
      "\u001b[1m2019/2019\u001b[0m \u001b[32m━━━━━━━━━━━━━━━━━━━━\u001b[0m\u001b[37m\u001b[0m \u001b[1m32s\u001b[0m 16ms/step - accuracy: 0.3080 - loss: 3.2537 - val_accuracy: 0.0985 - val_loss: 13.7639\n"
     ]
    }
   ],
   "source": [
    "# Define your model\n",
    "model = Sequential()\n",
    "model.add(Embedding(total_words, 100)) \n",
    "model.add(Bidirectional(LSTM(150)))\n",
    "model.add(Dense(total_words, activation='softmax'))\n",
    "\n",
    "adam = Adam(learning_rate=0.01)\n",
    "model.compile(loss='categorical_crossentropy', optimizer=adam, metrics=['accuracy'])\n",
    "\n",
    "# Train the model\n",
    "history = model.fit(X_train_temp, y_train_temp, epochs=50, validation_data=(X_val, y_val), verbose=1)"
   ]
  },
  {
   "cell_type": "markdown",
   "metadata": {},
   "source": [
    "# Save Models (Weights and biases)"
   ]
  },
  {
   "cell_type": "code",
   "execution_count": 55,
   "metadata": {
    "execution": {
     "iopub.execute_input": "2024-04-11T07:17:23.074643Z",
     "iopub.status.busy": "2024-04-11T07:17:23.074319Z",
     "iopub.status.idle": "2024-04-11T07:17:23.216893Z",
     "shell.execute_reply": "2024-04-11T07:17:23.215911Z",
     "shell.execute_reply.started": "2024-04-11T07:17:23.074617Z"
    }
   },
   "outputs": [],
   "source": [
    "# # Save model architecture as JSON file\n",
    "# from tensorflow.keras.models import model_from_json\n",
    "\n",
    "# model_json = model.to_json()\n",
    "# with open(\"lstm_model.json\", \"w\") as json_file:\n",
    "#     json_file.write(model_json)"
   ]
  },
  {
   "cell_type": "code",
   "execution_count": 56,
   "metadata": {},
   "outputs": [],
   "source": [
    "# # Load model architecture from JSON file\n",
    "# from tensorflow.keras.models import model_from_json\n",
    "\n",
    "# with open(\"lstm_model.json\", \"r\") as json_file:\n",
    "#     loaded_model_json = json_file.read()\n",
    "\n",
    "# # Create model from loaded architecture\n",
    "# loaded_model = model_from_json(loaded_model_json)\n",
    "\n",
    "# print(\"Model architecture loaded successfully from JSON file.\")"
   ]
  },
  {
   "cell_type": "code",
   "execution_count": 9,
   "metadata": {
    "execution": {
     "iopub.execute_input": "2024-04-11T06:04:13.104775Z",
     "iopub.status.busy": "2024-04-11T06:04:13.104349Z",
     "iopub.status.idle": "2024-04-11T06:04:13.406339Z",
     "shell.execute_reply": "2024-04-11T06:04:13.404737Z",
     "shell.execute_reply.started": "2024-04-11T06:04:13.104743Z"
    }
   },
   "outputs": [],
   "source": [
    "import matplotlib.pyplot as plt\n",
    "import seaborn as sns\n",
    "from sklearn.metrics import confusion_matrix\n"
   ]
  },
  {
   "cell_type": "code",
   "execution_count": 10,
   "metadata": {
    "execution": {
     "iopub.execute_input": "2024-04-11T06:04:14.332289Z",
     "iopub.status.busy": "2024-04-11T06:04:14.331600Z",
     "iopub.status.idle": "2024-04-11T06:04:15.028083Z",
     "shell.execute_reply": "2024-04-11T06:04:15.026976Z",
     "shell.execute_reply.started": "2024-04-11T06:04:14.332254Z"
    }
   },
   "outputs": [
    {
     "data": {
      "image/png": "[encoded data removed]",
      "text/plain": [
       "<Figure size 640x480 with 1 Axes>"
      ]
     },
     "metadata": {},
     "output_type": "display_data"
    },
    {
     "data": {
      "image/png": "[encoded data removed]",
      "text/plain": [
       "<Figure size 640x480 with 1 Axes>"
      ]
     },
     "metadata": {},
     "output_type": "display_data"
    }
   ],
   "source": [
    "\n",
    "# Plot Loss\n",
    "plt.plot(history.history['loss'], label='Training Loss')\n",
    "plt.plot(history.history['val_loss'], label='Validation Loss')\n",
    "plt.title('Training and Validation Loss')\n",
    "plt.xlabel('Epochs')\n",
    "plt.ylabel('Loss')\n",
    "plt.legend()\n",
    "plt.show()\n",
    "\n",
    "# Plot Accuracy\n",
    "plt.plot(history.history['accuracy'], label='Training Accuracy')\n",
    "plt.plot(history.history['val_accuracy'], label='Validation Accuracy')\n",
    "plt.title('Training and Validation Accuracy')\n",
    "plt.xlabel('Epochs')\n",
    "plt.ylabel('Accuracy')\n",
    "plt.legend()\n",
    "plt.show()\n"
   ]
  },
  {
   "cell_type": "markdown",
   "metadata": {},
   "source": [
    "# Inferences"
   ]
  },
  {
   "cell_type": "code",
   "execution_count": 31,
   "metadata": {
    "execution": {
     "iopub.execute_input": "2024-04-11T06:15:08.096062Z",
     "iopub.status.busy": "2024-04-11T06:15:08.095068Z",
     "iopub.status.idle": "2024-04-11T06:15:08.103261Z",
     "shell.execute_reply": "2024-04-11T06:15:08.102149Z",
     "shell.execute_reply.started": "2024-04-11T06:15:08.096025Z"
    }
   },
   "outputs": [],
   "source": [
    "def predict_top_five_words(model, tokenizer, seed_text):\n",
    "    token_list = tokenizer.texts_to_sequences([seed_text])[0]\n",
    "    token_list = pad_sequences([token_list], maxlen=max_sequence_len-1, padding='pre')\n",
    "    predicted = model.predict(token_list, verbose=0)\n",
    "    top_five_indexes = np.argsort(predicted[0])[::-1][:5]\n",
    "    top_five_words = []\n",
    "    for index in top_five_indexes:\n",
    "        for word, idx in tokenizer.word_index.items():\n",
    "            if idx == index:\n",
    "                top_five_words.append(word)\n",
    "                break\n",
    "    return top_five_words\n"
   ]
  },
  {
   "cell_type": "code",
   "execution_count": 68,
   "metadata": {
    "execution": {
     "iopub.execute_input": "2024-04-11T07:21:37.822914Z",
     "iopub.status.busy": "2024-04-11T07:21:37.822420Z",
     "iopub.status.idle": "2024-04-11T07:21:38.082054Z",
     "shell.execute_reply": "2024-04-11T07:21:38.080961Z",
     "shell.execute_reply.started": "2024-04-11T07:21:37.822880Z"
    }
   },
   "outputs": [
    {
     "data": {
      "text/html": [
       "\n",
       "    <script>\n",
       "        var newWindow = window.open(\"\", \"_blank\");\n",
       "        newWindow.document.write('<html><head><title>Top Five Words</title></head><body><h1>Sentence AutoCompletion App With Five Outputs</h1> <br> <hr> <ul><li>She is my raising</li><li>She is my gate</li><li>She is my knit</li><li>She is my boots</li><li>She is my months</li></ul></body></html>');\n",
       "    </script>\n",
       "    "
      ],
      "text/plain": [
       "<IPython.core.display.HTML object>"
      ]
     },
     "execution_count": 68,
     "metadata": {},
     "output_type": "execute_result"
    }
   ],
   "source": [
    "from IPython.display import HTML\n",
    "\n",
    "def predict_top_five_words(model, tokenizer, seed_text):\n",
    "    token_list = tokenizer.texts_to_sequences([seed_text])[0]\n",
    "    token_list = pad_sequences([token_list], maxlen=max_sequence_len-1, padding='pre')\n",
    "    predicted = model.predict(token_list, verbose=0)\n",
    "    top_five_indexes = np.argsort(predicted[0])[::-1][:5]\n",
    "    top_five_words = []\n",
    "    for index in top_five_indexes:\n",
    "        for word, idx in tokenizer.word_index.items():\n",
    "            if idx == index:\n",
    "                top_five_words.append(word)\n",
    "                break\n",
    "    return top_five_words\n",
    "\n",
    "def predict_and_display_top_five_words(seed_text, model, tokenizer):\n",
    "    top_five_words = predict_top_five_words(model, tokenizer, seed_text)\n",
    "    heading_app = f\"<h1>Sentence AutoCompletion App With Five Outputs</h1>\"\n",
    "    output_text = f\"<ul>{''.join([f'<li>{seed_text} {word}</li>' for word in top_five_words])}</ul>\"\n",
    "    javascript_code = f\"\"\"\n",
    "    <script>\n",
    "        var newWindow = window.open(\"\", \"_blank\");\n",
    "        newWindow.document.write('<html><head><title>Top Five Words</title></head><body>{heading_app} <br> <hr> {output_text}</body></html>');\n",
    "    </script>\n",
    "    \"\"\"\n",
    "    return HTML(javascript_code)\n",
    "\n",
    "\n"
   ]
  },
  {
   "cell_type": "code",
   "execution_count": 69,
   "metadata": {
    "execution": {
     "iopub.execute_input": "2024-04-11T07:22:36.745099Z",
     "iopub.status.busy": "2024-04-11T07:22:36.744339Z",
     "iopub.status.idle": "2024-04-11T07:22:36.822230Z",
     "shell.execute_reply": "2024-04-11T07:22:36.821207Z",
     "shell.execute_reply.started": "2024-04-11T07:22:36.745061Z"
    }
   },
   "outputs": [
    {
     "data": {
      "text/html": [
       "\n",
       "    <script>\n",
       "        var newWindow = window.open(\"\", \"_blank\");\n",
       "        newWindow.document.write('<html><head><title>Top Five Words</title></head><body><h1>Sentence AutoCompletion App With Five Outputs</h1> <br> <hr> <ul><li>She is my raising</li><li>She is my gate</li><li>She is my knit</li><li>She is my boots</li><li>She is my months</li></ul></body></html>');\n",
       "    </script>\n",
       "    "
      ],
      "text/plain": [
       "<IPython.core.display.HTML object>"
      ]
     },
     "execution_count": 69,
     "metadata": {},
     "output_type": "execute_result"
    }
   ],
   "source": [
    "# Test the function\n",
    "seed_text = \"She is my\"\n",
    "predict_and_display_top_five_words(seed_text, loaded_model, tokenizer)"
   ]
  },
  {
   "cell_type": "code",
   "execution_count": 49,
   "metadata": {
    "execution": {
     "iopub.execute_input": "2024-04-11T06:32:59.206205Z",
     "iopub.status.busy": "2024-04-11T06:32:59.205113Z",
     "iopub.status.idle": "2024-04-11T06:32:59.281620Z",
     "shell.execute_reply": "2024-04-11T06:32:59.280559Z",
     "shell.execute_reply.started": "2024-04-11T06:32:59.206146Z"
    }
   },
   "outputs": [
    {
     "data": {
      "text/html": [
       "\n",
       "    <script>\n",
       "        var newWindow = window.open(\"\", \"_blank\");\n",
       "        newWindow.document.write('<html><head><title>Top Five Words</title></head><body><ul><li>I have ever</li><li>I have given</li><li>I have thought</li><li>I have a</li><li>I have to</li></ul></body></html>');\n",
       "    </script>\n",
       "    "
      ],
      "text/plain": [
       "<IPython.core.display.HTML object>"
      ]
     },
     "execution_count": 49,
     "metadata": {},
     "output_type": "execute_result"
    }
   ],
   "source": [
    "# Test 2:\n",
    "# Test the function\n",
    "seed_text = \"I have\"\n",
    "predict_and_display_top_five_words(seed_text, loaded_model, tokenizer)"
   ]
  },
  {
   "cell_type": "code",
   "execution_count": 70,
   "metadata": {
    "execution": {
     "iopub.execute_input": "2024-04-11T07:23:00.192909Z",
     "iopub.status.busy": "2024-04-11T07:23:00.192508Z",
     "iopub.status.idle": "2024-04-11T07:23:00.270331Z",
     "shell.execute_reply": "2024-04-11T07:23:00.269254Z",
     "shell.execute_reply.started": "2024-04-11T07:23:00.192880Z"
    }
   },
   "outputs": [
    {
     "data": {
      "text/html": [
       "\n",
       "    <script>\n",
       "        var newWindow = window.open(\"\", \"_blank\");\n",
       "        newWindow.document.write('<html><head><title>Top Five Words</title></head><body><h1>Sentence AutoCompletion App With Five Outputs</h1> <br> <hr> <ul><li>We love months</li><li>We love fashioned</li><li>We love seeing</li><li>We love power</li><li>We love wastepaper</li></ul></body></html>');\n",
       "    </script>\n",
       "    "
      ],
      "text/plain": [
       "<IPython.core.display.HTML object>"
      ]
     },
     "execution_count": 70,
     "metadata": {},
     "output_type": "execute_result"
    }
   ],
   "source": [
    "# Test 3:\n",
    "# Test the function\n",
    "seed_text = \"We love\"\n",
    "predict_and_display_top_five_words(seed_text, loaded_model, tokenizer)"
   ]
  },
  {
   "cell_type": "code",
   "execution_count": 52,
   "metadata": {
    "execution": {
     "iopub.execute_input": "2024-04-11T06:33:58.775637Z",
     "iopub.status.busy": "2024-04-11T06:33:58.775231Z",
     "iopub.status.idle": "2024-04-11T06:33:58.849540Z",
     "shell.execute_reply": "2024-04-11T06:33:58.848492Z",
     "shell.execute_reply.started": "2024-04-11T06:33:58.775606Z"
    }
   },
   "outputs": [
    {
     "data": {
      "text/html": [
       "\n",
       "    <script>\n",
       "        var newWindow = window.open(\"\", \"_blank\");\n",
       "        newWindow.document.write('<html><head><title>Top Five Words</title></head><body><ul><li>How are up</li><li>How are terrible</li><li>How are you</li><li>How are not</li><li>How are at</li></ul></body></html>');\n",
       "    </script>\n",
       "    "
      ],
      "text/plain": [
       "<IPython.core.display.HTML object>"
      ]
     },
     "execution_count": 52,
     "metadata": {},
     "output_type": "execute_result"
    }
   ],
   "source": [
    "# Test 3:\n",
    "seed_text = \"How are\"\n",
    "predict_and_display_top_five_words(seed_text, loaded_model, tokenizer)"
   ]
  }
 ],
 "metadata": {
  "kaggle": {
   "accelerator": "gpu",
   "dataSources": [
    {
     "datasetId": 4758440,
     "sourceId": 8065627,
     "sourceType": "datasetVersion"
    },
    {
     "datasetId": 4758543,
     "sourceId": 8065761,
     "sourceType": "datasetVersion"
    },
    {
     "datasetId": 4759977,
     "sourceId": 8067728,
     "sourceType": "datasetVersion"
    }
   ],
   "dockerImageVersionId": 30674,
   "isGpuEnabled": true,
   "isInternetEnabled": true,
   "language": "python",
   "sourceType": "notebook"
  },
  "kernelspec": {
   "display_name": "Python 3 (ipykernel)",
   "language": "python",
   "name": "python3"
  },
  "language_info": {
   "codemirror_mode": {
    "name": "ipython",
    "version": 3
   },
   "file_extension": ".py",
   "mimetype": "text/x-python",
   "name": "python",
   "nbconvert_exporter": "python",
   "pygments_lexer": "ipython3",
   "version": "3.9.12"
  }
 },
 "nbformat": 4,
 "nbformat_minor": 4
}
